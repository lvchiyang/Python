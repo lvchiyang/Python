{
 "cells": [
  {
   "cell_type": "markdown",
   "metadata": {},
   "source": [
    "# 第二章"
   ]
  },
  {
   "cell_type": "markdown",
   "metadata": {},
   "source": [
    "1. ＡＡＢ　Ｂ"
   ]
  },
  {
   "cell_type": "markdown",
   "metadata": {},
   "source": [
    "2. BD不合法，变量首位不能为数字，且其中不可有空格"
   ]
  },
  {
   "cell_type": "code",
   "execution_count": 32,
   "metadata": {},
   "outputs": [
    {
     "name": "stdout",
     "output_type": "stream",
     "text": [
      "1 2 3 4 5\n"
     ]
    }
   ],
   "source": [
    "(a,b,c,d,e) = (1,2,3,4,5)\n",
    "print(a,b,c,d,e)"
   ]
  },
  {
   "cell_type": "markdown",
   "metadata": {},
   "source": [
    "3. for、while、if"
   ]
  },
  {
   "cell_type": "code",
   "execution_count": 30,
   "metadata": {},
   "outputs": [
    {
     "name": "stdout",
     "output_type": "stream",
     "text": [
      "0 1 2 3 4 5 \n",
      "\n",
      "0 1 2 3 6 5 \n",
      "\n",
      "1 2 3 4 5 \n",
      "\n",
      "1 2 3 4 5 \n",
      "\n"
     ]
    }
   ],
   "source": [
    "for i in range(0,6):\n",
    "    print (i,end=\" \")\n",
    "print(\"\\n\")\n",
    "\n",
    "list1 = [0,1,2,3,6,5]\n",
    "for i in list1:\n",
    "    print(i,end=\" \")\n",
    "print(\"\\n\")\n",
    "\n",
    "tuple1 = (1,2,3,4,5)\n",
    "for i in tuple1:\n",
    "    print(i,end=\" \")\n",
    "print(\"\\n\")\n",
    "\n",
    "a = {1,2,3,4,5}\n",
    "for i in a:\n",
    "    print(i,end=\" \")\n",
    "print(\"\\n\")"
   ]
  },
  {
   "cell_type": "code",
   "execution_count": 29,
   "metadata": {},
   "outputs": [
    {
     "name": "stdout",
     "output_type": "stream",
     "text": [
      "1 2 3 4 5 6 7 8 9 10 "
     ]
    }
   ],
   "source": [
    "i = 0\n",
    "while i<10:\n",
    "    i += 1\n",
    "    print(i,end=\" \")"
   ]
  },
  {
   "cell_type": "code",
   "execution_count": 28,
   "metadata": {},
   "outputs": [
    {
     "name": "stdout",
     "output_type": "stream",
     "text": [
      "10<i<20\n"
     ]
    }
   ],
   "source": [
    "i = 15\n",
    "if i<10:\n",
    "    i += 1\n",
    "elif i>20:\n",
    "    i -=1\n",
    "else:\n",
    "    print(\"10<i<20\")"
   ]
  },
  {
   "cell_type": "markdown",
   "metadata": {},
   "source": [
    "4. input实现两数字相乘"
   ]
  },
  {
   "cell_type": "code",
   "execution_count": 20,
   "metadata": {},
   "outputs": [
    {
     "name": "stdout",
     "output_type": "stream",
     "text": [
      "相乘的结果是：  2\n"
     ]
    }
   ],
   "source": [
    "i = input(\"输入第一个数字\")\n",
    "j = input(\"输入第二个数字\")\n",
    "print(\"相乘的结果是：\",int(i)*int(j))"
   ]
  },
  {
   "cell_type": "markdown",
   "metadata": {},
   "source": [
    "实现黄金分割 \n",
    "1.保留三位小数\n",
    "2.保留一位小数的百分比输出"
   ]
  },
  {
   "cell_type": "code",
   "execution_count": 24,
   "metadata": {},
   "outputs": [
    {
     "name": "stdout",
     "output_type": "stream",
     "text": [
      "0.618,61.8%\n"
     ]
    }
   ],
   "source": [
    "GLE = 0.6180339887\n",
    "print(\"{0:.3f},{1:.1%}\".format(GLE,GLE))"
   ]
  },
  {
   "cell_type": "code",
   "execution_count": 66,
   "metadata": {},
   "outputs": [
    {
     "name": "stdout",
     "output_type": "stream",
     "text": [
      "----------*----------\n",
      "---------***---------\n",
      "--------*****--------\n",
      "-------*******-------\n",
      "------*********------\n",
      "-----***********-----\n",
      "--------*****--------\n",
      "--------*****--------\n"
     ]
    }
   ],
   "source": [
    "for i in [0,1,2,3,4,5]:\n",
    "    print(\"{0:-^21}\".format(\"*\"*(2*i+1)))\n",
    "for i in range(2):\n",
    "    print(\"{0:-^21}\".format(\"*\"*5))\n"
   ]
  },
  {
   "cell_type": "markdown",
   "metadata": {},
   "source": [
    "5. 以下是否符合PEP8的格式建议"
   ]
  },
  {
   "cell_type": "code",
   "execution_count": 35,
   "metadata": {},
   "outputs": [
    {
     "name": "stdout",
     "output_type": "stream",
     "text": [
      "m大于3\n"
     ]
    }
   ],
   "source": [
    "x = 10\n",
    "x *=10\n",
    "y = (3-1)/8\n",
    "def fun(x=1,y=3):\n",
    "    pass\n",
    "m = 5\n",
    "if m>3:\n",
    "    print(\"m大于3\")"
   ]
  },
  {
   "cell_type": "markdown",
   "metadata": {},
   "source": [
    "# 第三章"
   ]
  },
  {
   "cell_type": "markdown",
   "metadata": {},
   "source": [
    "1. 计算(取余、^2)"
   ]
  },
  {
   "cell_type": "code",
   "execution_count": 36,
   "metadata": {},
   "outputs": [
    {
     "name": "stdout",
     "output_type": "stream",
     "text": [
      "6 400\n"
     ]
    }
   ],
   "source": [
    "x = 20\n",
    "y = 7\n",
    "print(x%y,x**2)"
   ]
  },
  {
   "cell_type": "markdown",
   "metadata": {},
   "source": [
    "2. 计算（/取商、//求商向下取整  divmod取整商和取余）"
   ]
  },
  {
   "cell_type": "code",
   "execution_count": 67,
   "metadata": {},
   "outputs": [
    {
     "name": "stdout",
     "output_type": "stream",
     "text": [
      "2.5 2\n",
      "(2, 3)\n"
     ]
    }
   ],
   "source": [
    "x = 15\n",
    "y = 6\n",
    "print(x/y , x//y)\n",
    "print(divmod(x,y))"
   ]
  },
  {
   "cell_type": "markdown",
   "metadata": {},
   "source": [
    "3. round(x,n)四舍五入，保留n位小数"
   ]
  },
  {
   "cell_type": "code",
   "execution_count": 38,
   "metadata": {},
   "outputs": [
    {
     "name": "stdout",
     "output_type": "stream",
     "text": [
      "3.14 3\n"
     ]
    }
   ],
   "source": [
    "x = 3.1415926\n",
    "print(round(x,2),round(x))"
   ]
  },
  {
   "cell_type": "code",
   "execution_count": 61,
   "metadata": {},
   "outputs": [
    {
     "name": "stdout",
     "output_type": "stream",
     "text": [
      "python\n",
      "nohtyp\n",
      "Python Is A Good Language\n",
      "o出现的次数: 3\n",
      "C++ is a good language\n",
      "python is a good language \n",
      "python*is*a*good*language\n",
      "二进制:0b11111111\n",
      "八进制:0o377\n",
      "十六进制:0xff\n",
      "十进制:255\n"
     ]
    }
   ],
   "source": [
    "s = \"python is a good language\"\n",
    "print(s[:6])\n",
    "print(s[-20::-1])\n",
    "print(s.title())\n",
    "print(\"o出现的次数:\",s.count(\"o\"))\n",
    "print(s.replace(\"python\",\"C++\"))\n",
    "\n",
    "list1 = s.split(\" \")\n",
    "for li in list1:\n",
    "    print(li,end=\" \")\n",
    "print(\"\")\n",
    "\n",
    "list2 = \"*\".join(list1)\n",
    "print(list2)\n",
    "\n",
    "num = 255\n",
    "b = bin(num)\n",
    "o = oct(num)\n",
    "he = hex(num)\n",
    "\n",
    "print(\"二进制:%s\" % (b))\n",
    "print(\"八进制:%s\" % (o))\n",
    "print(\"十六进制:%s\" % (he))\n",
    "print(\"十进制:%d\" % (num))\n"
   ]
  },
  {
   "cell_type": "markdown",
   "metadata": {},
   "source": [
    "# 第四章"
   ]
  },
  {
   "cell_type": "markdown",
   "metadata": {},
   "source": [
    "1. 100以内偶数生成的列表"
   ]
  },
  {
   "cell_type": "code",
   "execution_count": null,
   "metadata": {},
   "outputs": [],
   "source": [
    "list(range(0,100,2))"
   ]
  },
  {
   "cell_type": "markdown",
   "metadata": {},
   "source": [
    "2. 列表的索引、切片"
   ]
  },
  {
   "cell_type": "code",
   "execution_count": 5,
   "metadata": {},
   "outputs": [
    {
     "name": "stdout",
     "output_type": "stream",
     "text": [
      "c\n",
      "c\n",
      "['b', 'd']\n",
      "['e', 'd', 'c', 'b', 'a']\n"
     ]
    }
   ],
   "source": [
    "ls = [\"a\",\"b\",\"c\",\"d\",\"e\"]\n",
    "n = ls.index(\"c\")\n",
    "print(ls[n])\n",
    "print(ls[-3])\n",
    "print(ls[1:5:2])\n",
    "print(ls[::-1])"
   ]
  },
  {
   "cell_type": "markdown",
   "metadata": {},
   "source": [
    "3. 列表的高级操作"
   ]
  },
  {
   "cell_type": "code",
   "execution_count": 24,
   "metadata": {},
   "outputs": [
    {
     "name": "stdout",
     "output_type": "stream",
     "text": [
      "['BYD', 'CHERY', 'GEELY', 'TOYOTA', 'BWM', 'BENZ']\n",
      "['BYD', 'CHERY', 'BWM']\n",
      "2\n",
      "['BYD', 'QQ', 'BWM']\n",
      "浅拷贝 ['BYD', 'QQ', 'BWM']\n",
      "列表遍历 ['BYD', 'QQ', 'BWM']\n",
      "临时排序 [0, 1, 2, 3, 4, 5, 6]\n",
      "ls [3, 1, 4, 2, 0, 5, 6]\n",
      "永久排序 [0, 1, 2, 3, 4, 5, 6]\n",
      "翻转 [6, 5, 4, 3, 2, 1, 0]\n",
      "My first car is BYD\n",
      "My first car is QQ\n",
      "My first car is BWM\n"
     ]
    }
   ],
   "source": [
    "cars = [\"BYD\",\"GEELY\"]\n",
    "cars.append(\"TOYOTA\")\n",
    "cars.insert(1,\"CHERY\")\n",
    "cars.extend([\"BWM\",\"BENZ\"])\n",
    "print(cars)\n",
    "\n",
    "cars.pop()\n",
    "cars.pop(3)\n",
    "cars.pop(cars.index(\"GEELY\"))\n",
    "print(cars)\n",
    "\n",
    "n = cars.index(\"BWM\")\n",
    "print(n)\n",
    "\n",
    "cars[cars.index(\"CHERY\")] = \"QQ\"\n",
    "print(cars)\n",
    "\n",
    "cars1 = cars.copy()\n",
    "cars2 = cars[:]\n",
    "print(\"浅拷贝\",cars1)\n",
    "print(\"列表遍历\",cars2)\n",
    "\n",
    "ls = [3,1,4,2,0,5,6]\n",
    "ls1 = sorted(ls)\n",
    "print(\"临时排序\",ls1)\n",
    "print(\"ls\",ls)\n",
    "\n",
    "ls.sort()\n",
    "print(\"永久排序\",ls)\n",
    "ls.reverse()\n",
    "print(\"翻转\",ls)\n",
    "\n",
    "for index in cars:\n",
    "    print(\"My first car is\",index)\n",
    "\n"
   ]
  },
  {
   "cell_type": "markdown",
   "metadata": {},
   "source": [
    "4. 元组中数据不可以被更改"
   ]
  },
  {
   "cell_type": "markdown",
   "metadata": {},
   "source": [
    "5. 列表打包"
   ]
  },
  {
   "cell_type": "code",
   "execution_count": 25,
   "metadata": {},
   "outputs": [
    {
     "name": "stdout",
     "output_type": "stream",
     "text": [
      "The price of bread is 2.4\n",
      "The price of fish is 9.8\n",
      "The price of potato is 0.9\n"
     ]
    }
   ],
   "source": [
    "def func(foods,prices):\n",
    "    return foods,prices\n",
    "\n",
    "foods = [\"bread\",\"fish\",\"potato\"]\n",
    "prices = [2.4,9.8,0.9]\n",
    "\n",
    "for food,price in zip(foods,prices):\n",
    "    print(\"The price of\",food,\"is\",price)\n"
   ]
  },
  {
   "cell_type": "markdown",
   "metadata": {},
   "source": [
    "6. B不合法，列表不可以作为键"
   ]
  },
  {
   "cell_type": "markdown",
   "metadata": {},
   "source": [
    "7. 字典高级操作"
   ]
  },
  {
   "cell_type": "code",
   "execution_count": 26,
   "metadata": {},
   "outputs": [
    {
     "name": "stdout",
     "output_type": "stream",
     "text": [
      "3\n",
      "banana\n",
      "{'Judy': 'watermalon', 'Jen': 'banana', 'Sarah': 'orange', 'Tom': 'peach', 'Bob': 'tomato'}\n",
      "Bob tomato\n",
      "{'Jen': 'banana', 'Sarah': 'orange', 'Tom': 'peach'}\n"
     ]
    }
   ],
   "source": [
    "favorit_fruits = {\"Judy\":'watermalon',\"Jen\":'banana',\"Sarah\":'orange'}\n",
    "print(len(favorit_fruits))\n",
    "print(favorit_fruits[\"Jen\"])\n",
    "favorit_fruits[\"Tom\"] = 'peach'\n",
    "favorit_fruits[\"Bob\"] = 'tomato'\n",
    "print(favorit_fruits)\n",
    "favorit_fruits.pop(\"Judy\")\n",
    "\n",
    "name, fruit = favorit_fruits.popitem()\n",
    "print(name,fruit)\n",
    "print(favorit_fruits)\n"
   ]
  },
  {
   "cell_type": "markdown",
   "metadata": {},
   "source": [
    "8. 统计字符"
   ]
  },
  {
   "cell_type": "code",
   "execution_count": 28,
   "metadata": {},
   "outputs": [
    {
     "name": "stdout",
     "output_type": "stream",
     "text": [
      "{'八': 2, '百': 2, '标': 3, '兵': 5, '奔': 2, '北': 3, '坡': 2, '，': 3, '炮': 2, '并': 1, '排': 1, '边': 1, '跑': 1, '。': 1, '怕': 1, '把': 1, '碰': 1}\n"
     ]
    }
   ],
   "source": [
    "poem = \"八百标兵奔北坡，八百标兵奔北坡，炮兵并排北边跑。炮兵怕把标兵碰，\"\n",
    "d = {}\n",
    "for p in poem:\n",
    "    d[p] = d.get(p,0)+1\n",
    "print(d)"
   ]
  },
  {
   "cell_type": "markdown",
   "metadata": {},
   "source": [
    "9. 集合"
   ]
  },
  {
   "cell_type": "code",
   "execution_count": 29,
   "metadata": {},
   "outputs": [
    {
     "name": "stdout",
     "output_type": "stream",
     "text": [
      "交 {'cucumber'}\n",
      "并 {'orange', 'cabbage', 'cucumber', 'toamto', 'tomato', 'eggplant', 'banana'}\n",
      "异或 {'orange', 'cabbage', 'tomato', 'toamto', 'eggplant', 'banana'}\n",
      "只属于蔬菜 {'eggplant', 'toamto', 'cabbage'}\n"
     ]
    }
   ],
   "source": [
    "vegetables = {\"toamto\",\"cabbage\",\"cucumber\",\"meat\"}\n",
    "fruit = {\"banana\",\"orange\",\"tomato\",\"cucumber\"}\n",
    "\n",
    "vegetables.remove(\"meat\")\n",
    "vegetables.add(\"eggplant\")\n",
    "\n",
    "print(\"交/与\",vegetables&fruit)\n",
    "print(\"并/或\",vegetables|fruit)\n",
    "print(\"异或\",vegetables^fruit)\n",
    "print(\"只属于蔬菜\",vegetables-fruit)\n"
   ]
  },
  {
   "cell_type": "markdown",
   "metadata": {},
   "source": [
    "# 第五章"
   ]
  },
  {
   "cell_type": "markdown",
   "metadata": {},
   "source": [
    "1. 空的 True True "
   ]
  },
  {
   "cell_type": "code",
   "execution_count": 32,
   "metadata": {},
   "outputs": [
    {
     "name": "stdout",
     "output_type": "stream",
     "text": [
      "获得奖金0元\n"
     ]
    }
   ],
   "source": [
    "color_ball = input(\"从黑箱中抓球\")\n",
    "if (color_ball == \"黑球\"):\n",
    "    print(\"获得奖金0元\")\n",
    "elif (color_ball == \"白球\"):\n",
    "    print(\"获得奖金10元\")\n",
    "elif (color_ball == \"蓝球\"):\n",
    "    print(\"获得奖金20元\")\n",
    "elif (color_ball == \"粉球\"):\n",
    "    print(\"获得奖金30元\")\n",
    "elif (color_ball == \"紫球\"):\n",
    "    print(\"获得奖金50元\")\n",
    "elif (color_ball == \"彩球\"):\n",
    "    print(\"获得奖金100元\")\n"
   ]
  },
  {
   "cell_type": "markdown",
   "metadata": {},
   "source": [
    "3. 遍历循环————for\n",
    "   两层嵌套for，打印九九乘法表"
   ]
  },
  {
   "cell_type": "code",
   "execution_count": 41,
   "metadata": {},
   "outputs": [
    {
     "name": "stdout",
     "output_type": "stream",
     "text": [
      "0 * 0 = 0, 0 * 1 = 0, 0 * 2 = 0, 0 * 3 = 0, 0 * 4 = 0, 0 * 5 = 0, 0 * 6 = 0, 0 * 7 = 0, 0 * 8 = 0, 0 * 9 = 0, \n",
      "1 * 0 = 0, 1 * 1 = 1, 1 * 2 = 2, 1 * 3 = 3, 1 * 4 = 4, 1 * 5 = 5, 1 * 6 = 6, 1 * 7 = 7, 1 * 8 = 8, 1 * 9 = 9, \n",
      "2 * 0 = 0, 2 * 1 = 2, 2 * 2 = 4, 2 * 3 = 6, 2 * 4 = 8, 2 * 5 = 10, 2 * 6 = 12, 2 * 7 = 14, 2 * 8 = 16, 2 * 9 = 18, \n",
      "3 * 0 = 0, 3 * 1 = 3, 3 * 2 = 6, 3 * 3 = 9, 3 * 4 = 12, 3 * 5 = 15, 3 * 6 = 18, 3 * 7 = 21, 3 * 8 = 24, 3 * 9 = 27, \n",
      "4 * 0 = 0, 4 * 1 = 4, 4 * 2 = 8, 4 * 3 = 12, 4 * 4 = 16, 4 * 5 = 20, 4 * 6 = 24, 4 * 7 = 28, 4 * 8 = 32, 4 * 9 = 36, \n",
      "5 * 0 = 0, 5 * 1 = 5, 5 * 2 = 10, 5 * 3 = 15, 5 * 4 = 20, 5 * 5 = 25, 5 * 6 = 30, 5 * 7 = 35, 5 * 8 = 40, 5 * 9 = 45, \n",
      "6 * 0 = 0, 6 * 1 = 6, 6 * 2 = 12, 6 * 3 = 18, 6 * 4 = 24, 6 * 5 = 30, 6 * 6 = 36, 6 * 7 = 42, 6 * 8 = 48, 6 * 9 = 54, \n",
      "7 * 0 = 0, 7 * 1 = 7, 7 * 2 = 14, 7 * 3 = 21, 7 * 4 = 28, 7 * 5 = 35, 7 * 6 = 42, 7 * 7 = 49, 7 * 8 = 56, 7 * 9 = 63, \n",
      "8 * 0 = 0, 8 * 1 = 8, 8 * 2 = 16, 8 * 3 = 24, 8 * 4 = 32, 8 * 5 = 40, 8 * 6 = 48, 8 * 7 = 56, 8 * 8 = 64, 8 * 9 = 72, \n",
      "9 * 0 = 0, 9 * 1 = 9, 9 * 2 = 18, 9 * 3 = 27, 9 * 4 = 36, 9 * 5 = 45, 9 * 6 = 54, 9 * 7 = 63, 9 * 8 = 72, 9 * 9 = 81, \n"
     ]
    }
   ],
   "source": [
    "for i in range(10):\n",
    "    for j in range(10):\n",
    "        print(i,\"*\",j,\"=\",i*j,end=\", \")\n",
    "    print()"
   ]
  },
  {
   "cell_type": "markdown",
   "metadata": {},
   "source": [
    "4. 条件循环————while\n",
    "   "
   ]
  },
  {
   "cell_type": "code",
   "execution_count": 47,
   "metadata": {},
   "outputs": [
    {
     "name": "stdout",
     "output_type": "stream",
     "text": [
      "学号： 1 姓名： asdf1\n",
      "学号： 2asdf 姓名： d\n"
     ]
    }
   ],
   "source": [
    "student_of_grade3_class2 = {}\n",
    "name = ''\n",
    "num = ''\n",
    "while(True):\n",
    "    num= input(\"请输入学生学号：\")\n",
    "    if(num == 'q' or num == 'Q'):\n",
    "        break \n",
    "    name = input(\"输入学生姓名\")\n",
    "    student_of_grade3_class2[num] = name\n",
    "for num,name in student_of_grade3_class2.items():\n",
    "    print(\"学号：\",num,\"姓名：\",name)"
   ]
  },
  {
   "cell_type": "markdown",
   "metadata": {},
   "source": [
    "5. 不能，会无限循环\n",
    "6. 结构混乱容易出错，且速度较慢\n",
    "7. 写得简单一点"
   ]
  },
  {
   "cell_type": "markdown",
   "metadata": {},
   "source": [
    "# 第六章"
   ]
  },
  {
   "cell_type": "markdown",
   "metadata": {},
   "source": [
    "1. 函数的定义及调用\n",
    "   默认参数必须放在非默认参数后面 √\n",
    "   位置参数必须放在关键字参数前面 "
   ]
  },
  {
   "cell_type": "code",
   "execution_count": 48,
   "metadata": {},
   "outputs": [
    {
     "name": "stdout",
     "output_type": "stream",
     "text": [
      "a\n",
      "('b', 'c')\n",
      "{'name': 'Sarah', 'age': 18}\n"
     ]
    }
   ],
   "source": [
    "def func(x,*y,**z):\n",
    "    print(x)\n",
    "    print(y)\n",
    "    print(z)\n",
    "ls = [\"a\",\"b\",\"c\"]\n",
    "d = {\"name\":\"Sarah\",\"age\":18}\n",
    "func(*ls,**d)"
   ]
  },
  {
   "cell_type": "markdown",
   "metadata": {},
   "source": [
    "2. 羽毛球比赛"
   ]
  },
  {
   "cell_type": "code",
   "execution_count": 49,
   "metadata": {},
   "outputs": [
    {
     "name": "stdout",
     "output_type": "stream",
     "text": [
      "<class 'str'>\n",
      "<class 'int'>\n"
     ]
    }
   ],
   "source": [
    "pra = input(\"sdf\")\n",
    "print(type(pra))\n",
    "prob_A = eval(input(\"请输入运动员A的每球获胜概率(0~1)：\"))\n",
    "print(type(prob_A))"
   ]
  },
  {
   "cell_type": "code",
   "execution_count": null,
   "metadata": {},
   "outputs": [],
   "source": [
    "import random\n",
    "\n",
    "\n",
    "def get_inputs():  \n",
    "    # 输入原始数据\n",
    "    prob_A = eval(input(\"请输入运动员A的每球获胜概率(0~1)：\"))\n",
    "    while(prob_A < 0 or prob_A > 1):\n",
    "        print(\"请重新输入：\")\n",
    "        prob_A = eval(input(\"请输入运动员A的每球获胜概率(0~1)：\"))\n",
    "\n",
    "    prob_B = round(1-prob_A, 2)\n",
    "    number_of_games = eval(input(\"请输入模拟的场次（正整数）：\"))\n",
    "    print(\"模拟比赛总次数：\", number_of_games)\n",
    "    print(\"A 选手每球获胜概率：\", prob_A)\n",
    "    print(\"B 选手每球获胜概率：\", prob_B)\n",
    "    return prob_A, prob_B, number_of_games\n",
    "\n",
    "\n",
    "def game_over(score_A, score_B):\n",
    "    # 单场模拟结束条件，一方先达到21分，比赛结束    \n",
    "    #return score_A == 21 or score_B == 21\n",
    "\n",
    "    #一方得分大于等于21且领先对方至少两分\n",
    "    if(abs(score_A-score_B)>=2 and (score_A >= 21 or score_B >= 21)):\n",
    "        return 1\n",
    "    \n",
    "    \n",
    "\n",
    "\n",
    "def sim_one_game(prob_A, prob_B):\n",
    "    # 模拟一场比赛的结果\n",
    "    score_A, score_B = 0, 0\n",
    "    while not game_over(score_A, score_B):\n",
    "        if random.random() < prob_A:                # random.random() 生产[0,1)之间的随机小数,均匀分布\n",
    "            score_A += 1                 \n",
    "        else:\n",
    "            score_B += 1\n",
    "    return score_A, score_B\n",
    "\n",
    "\n",
    "def sim_n_games(prob_A, prob_B, number_of_games):\n",
    "    # 模拟多场比赛的结果\n",
    "    win_A, win_B = 0, 0                # 初始化A、B获胜的场次\n",
    "    for i in range(number_of_games):   # 迭代number_of_games次\n",
    "        score_A, score_B = sim_one_game(prob_A, prob_B)  # 获得模拟依次比赛的比分\n",
    "        \n",
    "        #print(score_A, score_B)  输出每场比分\n",
    "        \n",
    "        if score_A > score_B:\n",
    "            win_A += 1\n",
    "        else:\n",
    "            win_B += 1\n",
    "    return win_A, win_B\n",
    "\n",
    "def sim_three_games(prob_A, prob_B):\n",
    "    #三局两胜制\n",
    "    win_A, win_B = 0, 0                # 初始化A、B获胜的场次\n",
    "    for i in range(3):   \n",
    "        score_A, score_B = sim_one_game(prob_A, prob_B)  # 获得模拟依次比赛的比分\n",
    "        print(score_A, score_B)\n",
    "        if score_A > score_B:\n",
    "            win_A += 1\n",
    "        else:\n",
    "            win_B += 1\n",
    "    return win_A, win_B\n",
    "\n",
    "def print_summary(win_A, win_B, number_of_games):\n",
    "    # 结果汇总输出\n",
    "    print(\"共模拟了{}场比赛\".format(number_of_games))\n",
    "    print(\"\\033[31m选手A获胜{0}场，占比{1:.1%}\".format(win_A, win_A/number_of_games))\n",
    "    print(\"选手B获胜{0}场，占比{1:.1%}\".format(win_B, win_B/number_of_games))\n",
    "    \n",
    "\n",
    "def main():\n",
    "    # 主要逻辑\n",
    "    prob_A, prob_B, number_of_games = get_inputs()                        # 获取原始数据\n",
    "    win_A, win_B = sim_n_games(prob_A, prob_B, number_of_games)           # 获取模拟结果\n",
    "    print_summary(win_A, win_B, number_of_games)                          # 结果汇总输出\n",
    "    \n",
    "    #三局两胜\n",
    "    win_A,win_B = sim_three_games(prob_A, prob_B)\n",
    "    print_summary(win_A, win_B, 3)\n",
    "\n",
    "if __name__ == \"__main__\":\n",
    "    main()"
   ]
  },
  {
   "cell_type": "markdown",
   "metadata": {},
   "source": [
    "3. 统计字符出现频次，并按频次降序排列"
   ]
  },
  {
   "cell_type": "code",
   "execution_count": 6,
   "metadata": {},
   "outputs": [
    {
     "data": {
      "text/plain": [
       "[('兵', 5),\n",
       " ('标', 3),\n",
       " ('北', 3),\n",
       " ('，', 3),\n",
       " ('八', 2),\n",
       " ('百', 2),\n",
       " ('奔', 2),\n",
       " ('坡', 2),\n",
       " ('炮', 2),\n",
       " ('并', 1),\n",
       " ('排', 1),\n",
       " ('边', 1),\n",
       " ('跑', 1),\n",
       " ('。', 1),\n",
       " ('怕', 1),\n",
       " ('把', 1),\n",
       " ('碰', 1)]"
      ]
     },
     "execution_count": 6,
     "metadata": {},
     "output_type": "execute_result"
    }
   ],
   "source": [
    "poem = \"八百标兵奔北坡，八百标兵奔北坡，炮兵并排北边跑。炮兵怕把标兵碰，\"\n",
    "d = {}\n",
    "for p in poem:\n",
    "    d[p] = d.get(p,0)+1\n",
    "a = sorted(d.items(),key = lambda x:x[1],reverse=True)\n",
    "a\n"
   ]
  }
 ],
 "metadata": {
  "kernelspec": {
   "display_name": "Python 3.10.4 64-bit",
   "language": "python",
   "name": "python3"
  },
  "language_info": {
   "codemirror_mode": {
    "name": "ipython",
    "version": 3
   },
   "file_extension": ".py",
   "mimetype": "text/x-python",
   "name": "python",
   "nbconvert_exporter": "python",
   "pygments_lexer": "ipython3",
   "version": "3.10.4"
  },
  "orig_nbformat": 4,
  "vscode": {
   "interpreter": {
    "hash": "e7b2edc262db5d3aafc104787e1481a7099a33d1124428610d074055370f6395"
   }
  }
 },
 "nbformat": 4,
 "nbformat_minor": 2
}
