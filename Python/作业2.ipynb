{
 "cells": [
  {
   "cell_type": "code",
   "execution_count": 13,
   "metadata": {},
   "outputs": [
    {
     "name": "stdout",
     "output_type": "stream",
     "text": [
      "<class 'list_iterator'>\n"
     ]
    }
   ],
   "source": [
    "from ast import Pass\n",
    "\n",
    "\n",
    "list1 = [1,2,3,4,5,6]\n",
    "\n",
    "for i in iter(list1):\n",
    "    #print(i)\n",
    "    pass\n",
    "\n",
    "for i in enumerate(list1):\n",
    "    #print(i)\n",
    "    pass\n",
    "\n",
    "\n",
    "i = 0\n",
    "i=iter(list1)  #返回的是一个列表迭代器，c++中是一个指针,可以直接访问元素\n",
    "                #有点像是构造了一个类\n",
    "print(type(i))\n"
   ]
  }
 ],
 "metadata": {
  "kernelspec": {
   "display_name": "Python 3.8.10 64-bit",
   "language": "python",
   "name": "python3"
  },
  "language_info": {
   "codemirror_mode": {
    "name": "ipython",
    "version": 3
   },
   "file_extension": ".py",
   "mimetype": "text/x-python",
   "name": "python",
   "nbconvert_exporter": "python",
   "pygments_lexer": "ipython3",
   "version": "3.8.10"
  },
  "orig_nbformat": 4,
  "vscode": {
   "interpreter": {
    "hash": "5ee4ffb35e4b49d0e1180f1923590b3a398b1b7f372455733dd1a9641bab96ea"
   }
  }
 },
 "nbformat": 4,
 "nbformat_minor": 2
}
